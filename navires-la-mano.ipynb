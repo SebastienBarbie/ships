{
 "cells": [
  {
   "cell_type": "markdown",
   "id": "bd00317f",
   "metadata": {
    "papermill": {
     "duration": 0.018866,
     "end_time": "2022-07-10T00:44:41.191318",
     "exception": false,
     "start_time": "2022-07-10T00:44:41.172452",
     "status": "completed"
    },
    "tags": []
   },
   "source": [
    "# **Préliminaires**"
   ]
  },
  {
   "cell_type": "code",
   "execution_count": 1,
   "id": "e33cd95a",
   "metadata": {
    "_cell_guid": "b1076dfc-b9ad-4769-8c92-a6c4dae69d19",
    "_uuid": "8f2839f25d086af736a60e9eeb907d3b93b6e0e5",
    "execution": {
     "iopub.execute_input": "2022-07-10T00:44:41.225310Z",
     "iopub.status.busy": "2022-07-10T00:44:41.225004Z",
     "iopub.status.idle": "2022-07-10T00:44:42.210582Z",
     "shell.execute_reply": "2022-07-10T00:44:42.209736Z"
    },
    "papermill": {
     "duration": 1.005392,
     "end_time": "2022-07-10T00:44:42.213221",
     "exception": false,
     "start_time": "2022-07-10T00:44:41.207829",
     "status": "completed"
    },
    "tags": []
   },
   "outputs": [
    {
     "name": "stdout",
     "output_type": "stream",
     "text": [
      "/kaggle/input/navires-2022-a-la-mano/ships.tgz\n"
     ]
    }
   ],
   "source": [
    "import numpy as np\n",
    "import pandas as pd\n",
    "from pprint import pprint\n",
    "from collections import Counter\n",
    "import matplotlib.pyplot as plt\n",
    "import seaborn as sns\n",
    "import cv2 as cv\n",
    "\n",
    "import os\n",
    "for dirname, _, filenames in os.walk('/kaggle/input'):\n",
    "    for filename in filenames:\n",
    "        print(os.path.join(dirname, filename))"
   ]
  },
  {
   "cell_type": "code",
   "execution_count": 2,
   "id": "5a1abb10",
   "metadata": {
    "execution": {
     "iopub.execute_input": "2022-07-10T00:44:42.272046Z",
     "iopub.status.busy": "2022-07-10T00:44:42.271430Z",
     "iopub.status.idle": "2022-07-10T00:44:46.192805Z",
     "shell.execute_reply": "2022-07-10T00:44:46.192045Z"
    },
    "papermill": {
     "duration": 3.944934,
     "end_time": "2022-07-10T00:44:46.194784",
     "exception": false,
     "start_time": "2022-07-10T00:44:42.249850",
     "status": "completed"
    },
    "tags": []
   },
   "outputs": [],
   "source": [
    "import tensorflow as tf\n",
    "\n",
    "SEED = 123\n",
    "np.random.seed(SEED)\n",
    "tf.random.set_seed(SEED)"
   ]
  },
  {
   "cell_type": "code",
   "execution_count": 3,
   "id": "a28c56b3",
   "metadata": {
    "execution": {
     "iopub.execute_input": "2022-07-10T00:44:46.231137Z",
     "iopub.status.busy": "2022-07-10T00:44:46.230939Z",
     "iopub.status.idle": "2022-07-10T00:44:49.130148Z",
     "shell.execute_reply": "2022-07-10T00:44:49.129099Z"
    },
    "papermill": {
     "duration": 2.919347,
     "end_time": "2022-07-10T00:44:49.132276",
     "exception": false,
     "start_time": "2022-07-10T00:44:46.212929",
     "status": "completed"
    },
    "tags": []
   },
   "outputs": [],
   "source": [
    "!tar xzf /kaggle/input/navires-2022-a-la-mano/ships.tgz"
   ]
  },
  {
   "cell_type": "markdown",
   "id": "dbaf2dff",
   "metadata": {
    "papermill": {
     "duration": 0.016674,
     "end_time": "2022-07-10T00:44:49.166673",
     "exception": false,
     "start_time": "2022-07-10T00:44:49.149999",
     "status": "completed"
    },
    "tags": []
   },
   "source": [
    "# **Lecture des images & présentation des données**\n",
    "* Séparation des images en deux sets : un dataset de training pour le réseau de neurones, ainsi qu'un set de test pour tester la véracité du modèle d'entrainement\n",
    "* Visualisation de la répartition du jeu de données entre les classes\n",
    "* Mise en évidence du type d'images avec lesquelles le réseau de neurones travaille"
   ]
  },
  {
   "cell_type": "code",
   "execution_count": 4,
   "id": "301d3735",
   "metadata": {
    "execution": {
     "iopub.execute_input": "2022-07-10T00:44:49.207438Z",
     "iopub.status.busy": "2022-07-10T00:44:49.206661Z",
     "iopub.status.idle": "2022-07-10T00:44:55.481185Z",
     "shell.execute_reply": "2022-07-10T00:44:55.480451Z"
    },
    "papermill": {
     "duration": 6.299681,
     "end_time": "2022-07-10T00:44:55.483318",
     "exception": false,
     "start_time": "2022-07-10T00:44:49.183637",
     "status": "completed"
    },
    "tags": []
   },
   "outputs": [
    {
     "name": "stdout",
     "output_type": "stream",
     "text": [
      "Found 51284 files belonging to 13 classes.\n",
      "Using 41028 files for training.\n"
     ]
    },
    {
     "name": "stderr",
     "output_type": "stream",
     "text": [
      "2022-07-10 00:44:51.467577: I tensorflow/stream_executor/cuda/cuda_gpu_executor.cc:937] successful NUMA node read from SysFS had negative value (-1), but there must be at least one NUMA node, so returning NUMA node zero\n",
      "2022-07-10 00:44:51.568352: I tensorflow/stream_executor/cuda/cuda_gpu_executor.cc:937] successful NUMA node read from SysFS had negative value (-1), but there must be at least one NUMA node, so returning NUMA node zero\n",
      "2022-07-10 00:44:51.569094: I tensorflow/stream_executor/cuda/cuda_gpu_executor.cc:937] successful NUMA node read from SysFS had negative value (-1), but there must be at least one NUMA node, so returning NUMA node zero\n",
      "2022-07-10 00:44:51.571830: I tensorflow/core/platform/cpu_feature_guard.cc:142] This TensorFlow binary is optimized with oneAPI Deep Neural Network Library (oneDNN) to use the following CPU instructions in performance-critical operations:  AVX2 AVX512F FMA\n",
      "To enable them in other operations, rebuild TensorFlow with the appropriate compiler flags.\n",
      "2022-07-10 00:44:51.572097: I tensorflow/stream_executor/cuda/cuda_gpu_executor.cc:937] successful NUMA node read from SysFS had negative value (-1), but there must be at least one NUMA node, so returning NUMA node zero\n",
      "2022-07-10 00:44:51.572836: I tensorflow/stream_executor/cuda/cuda_gpu_executor.cc:937] successful NUMA node read from SysFS had negative value (-1), but there must be at least one NUMA node, so returning NUMA node zero\n",
      "2022-07-10 00:44:51.573459: I tensorflow/stream_executor/cuda/cuda_gpu_executor.cc:937] successful NUMA node read from SysFS had negative value (-1), but there must be at least one NUMA node, so returning NUMA node zero\n",
      "2022-07-10 00:44:53.713647: I tensorflow/stream_executor/cuda/cuda_gpu_executor.cc:937] successful NUMA node read from SysFS had negative value (-1), but there must be at least one NUMA node, so returning NUMA node zero\n",
      "2022-07-10 00:44:53.714625: I tensorflow/stream_executor/cuda/cuda_gpu_executor.cc:937] successful NUMA node read from SysFS had negative value (-1), but there must be at least one NUMA node, so returning NUMA node zero\n",
      "2022-07-10 00:44:53.715432: I tensorflow/stream_executor/cuda/cuda_gpu_executor.cc:937] successful NUMA node read from SysFS had negative value (-1), but there must be at least one NUMA node, so returning NUMA node zero\n",
      "2022-07-10 00:44:53.716416: I tensorflow/core/common_runtime/gpu/gpu_device.cc:1510] Created device /job:localhost/replica:0/task:0/device:GPU:0 with 15403 MB memory:  -> device: 0, name: Tesla P100-PCIE-16GB, pci bus id: 0000:00:04.0, compute capability: 6.0\n"
     ]
    },
    {
     "name": "stdout",
     "output_type": "stream",
     "text": [
      "Found 51284 files belonging to 13 classes.\n",
      "Using 10256 files for validation.\n"
     ]
    }
   ],
   "source": [
    "# ------------- Set de données d'entrainement -------------\n",
    "data_train = tf.keras.utils.image_dataset_from_directory(\n",
    "    \"/kaggle/working/ships32\",\n",
    "    labels='inferred',\n",
    "    label_mode='categorical',\n",
    "    class_names=None,\n",
    "    color_mode='rgb',\n",
    "    batch_size=32,\n",
    "    image_size=(32, 32),\n",
    "    shuffle=True,\n",
    "    seed=SEED,\n",
    "    validation_split=0.2,\n",
    "    subset=\"training\",\n",
    "    interpolation='bilinear',\n",
    "    follow_links=False,\n",
    "    crop_to_aspect_ratio=False\n",
    ")\n",
    "\n",
    "\n",
    "# ------------- Set de données de validation -------------\n",
    "data_test = tf.keras.utils.image_dataset_from_directory(\n",
    "    \"/kaggle/working/ships32\",\n",
    "    labels='inferred',\n",
    "    label_mode='categorical',\n",
    "    class_names=None,\n",
    "    color_mode='rgb',\n",
    "    batch_size=32,\n",
    "    image_size=(32, 32),\n",
    "    shuffle=True,\n",
    "    seed=SEED,\n",
    "    validation_split=0.2,\n",
    "    subset=\"validation\",\n",
    "    interpolation='bilinear',\n",
    "    follow_links=False,\n",
    "    crop_to_aspect_ratio=False\n",
    ")"
   ]
  },
  {
   "cell_type": "code",
   "execution_count": 5,
   "id": "5803487b",
   "metadata": {
    "execution": {
     "iopub.execute_input": "2022-07-10T00:44:55.546377Z",
     "iopub.status.busy": "2022-07-10T00:44:55.545864Z",
     "iopub.status.idle": "2022-07-10T00:44:58.880351Z",
     "shell.execute_reply": "2022-07-10T00:44:58.879675Z"
    },
    "papermill": {
     "duration": 3.369507,
     "end_time": "2022-07-10T00:44:58.882564",
     "exception": false,
     "start_time": "2022-07-10T00:44:55.513057",
     "status": "completed"
    },
    "tags": []
   },
   "outputs": [
    {
     "name": "stdout",
     "output_type": "stream",
     "text": [
      "Liste des classes et leur représentation dans le dataset :\n",
      "\n",
      "[('destroyer', 6860), ('containership', 6813), ('cruiser', 6811), ('methanier', 3511), ('ferry', 3499), ('tug', 3457), ('coastguard', 3451), ('vsmallfish', 3396), ('smallfish', 3356), ('corvette', 3151), ('submarine', 3058), ('cv', 2150), ('sailing', 1771)]\n",
      "\n",
      "\n",
      "Liste des labels :\n",
      "\n",
      "['destroyer', 'containership', 'cruiser', 'methanier', 'ferry', 'tug', 'coastguard', 'vsmallfish', 'smallfish', 'corvette', 'submarine', 'cv', 'sailing']\n",
      "\n",
      "\n"
     ]
    },
    {
     "data": {
      "image/png": "[encoded data removed]",
      "text/plain": [
       "<Figure size 1080x360 with 1 Axes>"
      ]
     },
     "metadata": {
      "needs_background": "light"
     },
     "output_type": "display_data"
    }
   ],
   "source": [
    "path = '/kaggle/working/ships32'\n",
    "classes = os.listdir(path)\n",
    "counts = {}\n",
    "for c in classes:\n",
    "    counts[c] = len(os.listdir(os.path.join(path, c)))\n",
    "\n",
    "\n",
    "# ------------- Liste des classes et leur représentation dans le dataset -------------\n",
    "classes_and_number = sorted(counts.items(), key = lambda x: x[1], reverse = True)[:13]\n",
    "print(\"Liste des classes et leur représentation dans le dataset :\\n\")\n",
    "print(classes_and_number)\n",
    "print(\"\\n\")\n",
    "\n",
    "\n",
    "# ------------- Liste des labels -------------\n",
    "labels = [i[0] for i in classes_and_number]\n",
    "print(\"Liste des labels :\\n\")\n",
    "print(labels)\n",
    "print(\"\\n\")\n",
    "\n",
    "\n",
    "# ------------- Plotting du nombre d'images dans chaque classe -------------\n",
    "Y = []\n",
    "for c in classes:\n",
    "    if c in labels:\n",
    "        dir_path = os.path.join(path, c)\n",
    "        label = labels.index(c)\n",
    "        for i in os.listdir(dir_path):\n",
    "            image = cv.imread(os.path.join(dir_path, i))   \n",
    "            try:\n",
    "                resized = cv.resize(image, (32, 32))\n",
    "                Y.append(label)\n",
    "            except:\n",
    "                print(os.path.join(dir_path, i), \"[ERROR] can't read the file\")\n",
    "                continue\n",
    "\n",
    "obj = Counter(Y)\n",
    "\n",
    "fig = plt.figure(figsize = (15, 5))\n",
    "sns.barplot(x = [labels[i] for i in obj.keys()], y = list(obj.values())).set_title(\"Nombre d'images dans chaque classe\")\n",
    "plt.margins(x = 0)\n",
    "plt.show()"
   ]
  },
  {
   "cell_type": "code",
   "execution_count": 6,
   "id": "32923e0e",
   "metadata": {
    "execution": {
     "iopub.execute_input": "2022-07-10T00:44:58.922836Z",
     "iopub.status.busy": "2022-07-10T00:44:58.922225Z",
     "iopub.status.idle": "2022-07-10T00:44:59.337066Z",
     "shell.execute_reply": "2022-07-10T00:44:59.336334Z"
    },
    "papermill": {
     "duration": 0.436931,
     "end_time": "2022-07-10T00:44:59.338896",
     "exception": false,
     "start_time": "2022-07-10T00:44:58.901965",
     "status": "completed"
    },
    "tags": []
   },
   "outputs": [
    {
     "name": "stdout",
     "output_type": "stream",
     "text": [
      "Exemples aléatoires d'images contenues dans le pool d'entrainement du réseau de neurones :\n",
      "\n"
     ]
    },
    {
     "name": "stderr",
     "output_type": "stream",
     "text": [
      "2022-07-10 00:44:58.961710: I tensorflow/compiler/mlir/mlir_graph_optimization_pass.cc:185] None of the MLIR Optimization Passes are enabled (registered 2)\n"
     ]
    },
    {
     "data": {
      "image/png": "[encoded data removed]",
      "text/plain": [
       "<Figure size 720x720 with 8 Axes>"
      ]
     },
     "metadata": {
      "needs_background": "light"
     },
     "output_type": "display_data"
    }
   ],
   "source": [
    "# ------------- Visualisation d'images aléatoires du set de données -------------\n",
    "data_train.take(1)\n",
    "\n",
    "print(\"Exemples aléatoires d'images contenues dans le pool d'entrainement du réseau de neurones :\\n\")\n",
    "plt.figure(figsize=(10, 10))\n",
    "for images, l in data_train.take(1):\n",
    "    for i in range(8):\n",
    "        rand_num = np.random.randint(0, 50000)\n",
    "        ax = plt.subplot(4, 4, i + 1)\n",
    "        plt.imshow(images[i].numpy().astype(\"uint8\"))\n",
    "        plt.axis(\"off\")"
   ]
  },
  {
   "cell_type": "markdown",
   "id": "6a7ff711",
   "metadata": {
    "papermill": {
     "duration": 0.02159,
     "end_time": "2022-07-10T00:44:59.382651",
     "exception": false,
     "start_time": "2022-07-10T00:44:59.361061",
     "status": "completed"
    },
    "tags": []
   },
   "source": [
    "# **Augmentation des données**\n",
    "Les images d'entrée vont être modifiées de manière à perturber le réseau de neurones concernant la classification des données. Cela rend l'entrainement plus complet et fiable.\n",
    "En l'occurrence ici, les données sont modifiées de la manière suivante :\n",
    "1. Retournement de l'image à l'horizontale\n",
    "2. Modification du contraste de l'image\n",
    "3. Rotation aléatoire de l'image\n",
    "\n",
    "Ensuite, on ajoute des poids sur les données. Les 13 classes de bateaux à classifier sont inégales concernant le nombre d'image qu'elles contiennent, il faut donc l'indiquer au réseau de neurones pour qu'il puisse le prendre en compte dans son entrainement. Pour cela, on donne à chaque classe un coefficient de représentation au sein du dataset complet."
   ]
  },
  {
   "cell_type": "code",
   "execution_count": 7,
   "id": "f4ee9192",
   "metadata": {
    "execution": {
     "iopub.execute_input": "2022-07-10T00:44:59.425707Z",
     "iopub.status.busy": "2022-07-10T00:44:59.425490Z",
     "iopub.status.idle": "2022-07-10T00:44:59.825499Z",
     "shell.execute_reply": "2022-07-10T00:44:59.824574Z"
    },
    "papermill": {
     "duration": 0.423997,
     "end_time": "2022-07-10T00:44:59.827654",
     "exception": false,
     "start_time": "2022-07-10T00:44:59.403657",
     "status": "completed"
    },
    "tags": []
   },
   "outputs": [],
   "source": [
    "# ------------- classes de données -------------\n",
    "nb_classes = 13\n",
    "\n",
    "\n",
    "# ------------- data augmentation -------------\n",
    "import tensorflow as tf\n",
    "from tensorflow.keras import layers\n",
    "from keras.models import Sequential\n",
    "from keras.layers import Dense, Dropout, Flatten, Conv2D, MaxPooling2D, Rescaling, Layer, BatchNormalization\n",
    "\n",
    "flip = Sequential(\n",
    "    [\n",
    "        layers.RandomFlip(\"horizontal\"),\n",
    "    ]\n",
    ")\n",
    "rot = Sequential(\n",
    "    [\n",
    "        layers.RandomRotation(0.5),\n",
    "    ]\n",
    ")\n",
    "\n",
    "augmented_rot = data_train.map(\n",
    "  lambda x, y: (rot(x, training=True), y))\n",
    "\n",
    "augmented_flip = data_train.map(\n",
    "  lambda x, y: (flip(x, training=True), y))\n",
    "\n",
    "augmented_train_ds = data_train.concatenate(augmented_flip).concatenate(augmented_rot)\n",
    "\n",
    "\n",
    "# ------------- Ajout du poids sur chaque type de données -------------\n",
    "count = !cd ships32; for elt in $(ls); do ls $elt | wc -l; done\n",
    "labels = !cd ships32; for elt in $(ls); do echo $elt; done\n",
    "\n",
    "count = [int (i) for i in count]\n",
    "coeff = {}\n",
    "\n",
    "for i in range(len(count)):\n",
    "    coeff[i] = float(\"{:.2f}\".format(count[i] / sum(count)))"
   ]
  },
  {
   "cell_type": "markdown",
   "id": "835a7269",
   "metadata": {
    "papermill": {
     "duration": 0.020871,
     "end_time": "2022-07-10T00:44:59.870769",
     "exception": false,
     "start_time": "2022-07-10T00:44:59.849898",
     "status": "completed"
    },
    "tags": []
   },
   "source": [
    "# **Création du réseau de neurones**\n",
    "Ici, on décide comment les différentes couches du réseau de neurones seront agencées pour traiter les données. \n",
    "1. On choisit des couches de convolution allant de 32 à 128, que l'on double\n",
    "2. On normalise le Batch de données après chaque couche de convolution pour mieux coordonner les changements entre chaque couche convolutive\n",
    "3. On ajoute un MaxPooling une couche convolutive sur deux pour sous-échantillonner l'image lors de sa classification\n",
    "4. On ajoute une couche Dropout pour réduire l'over-fitting du modèle, c'est-à-dire qu'on supprime des neurones dans la couche actuelle.\n",
    "5. On Flatten et on Dense pour donner la bonne sortie d'image après être passé dans le modèle.\n",
    "6. On ajoute un EarlyStopping pour éviter que le modèle ne sur-apprenne les images d'entrainement.\n",
    "\n",
    "Il est bon de noter que le learning rate de l'optimiseur est important, et qu'un learning rate petit permet de rentre l'accuracy entre les epoch plus stable. On choisit donc un learning rate de 0,0001."
   ]
  },
  {
   "cell_type": "code",
   "execution_count": 8,
   "id": "b0d349b3",
   "metadata": {
    "execution": {
     "iopub.execute_input": "2022-07-10T00:44:59.914490Z",
     "iopub.status.busy": "2022-07-10T00:44:59.914264Z",
     "iopub.status.idle": "2022-07-10T02:28:42.167114Z",
     "shell.execute_reply": "2022-07-10T02:28:42.165851Z"
    },
    "papermill": {
     "duration": 6222.278742,
     "end_time": "2022-07-10T02:28:42.170678",
     "exception": false,
     "start_time": "2022-07-10T00:44:59.891936",
     "status": "completed"
    },
    "tags": []
   },
   "outputs": [
    {
     "name": "stdout",
     "output_type": "stream",
     "text": [
      "Epoch 1/100\n"
     ]
    },
    {
     "name": "stderr",
     "output_type": "stream",
     "text": [
      "2022-07-10 00:45:02.505050: I tensorflow/stream_executor/cuda/cuda_dnn.cc:369] Loaded cuDNN version 8005\n"
     ]
    },
    {
     "name": "stdout",
     "output_type": "stream",
     "text": [
      "3849/3849 [==============================] - 51s 11ms/step - loss: 0.2030 - accuracy: 0.2891 - val_loss: 1.8429 - val_accuracy: 0.4065\n",
      "Epoch 2/100\n",
      "3849/3849 [==============================] - 42s 11ms/step - loss: 0.1441 - accuracy: 0.3990 - val_loss: 1.6511 - val_accuracy: 0.4592\n",
      "Epoch 3/100\n",
      "3849/3849 [==============================] - 42s 11ms/step - loss: 0.1236 - accuracy: 0.4630 - val_loss: 1.4697 - val_accuracy: 0.5181\n",
      "Epoch 4/100\n",
      "3849/3849 [==============================] - 43s 11ms/step - loss: 0.1118 - accuracy: 0.5064 - val_loss: 1.3555 - val_accuracy: 0.5618\n",
      "Epoch 5/100\n",
      "3849/3849 [==============================] - 44s 11ms/step - loss: 0.1034 - accuracy: 0.5396 - val_loss: 1.3227 - val_accuracy: 0.5688\n",
      "Epoch 6/100\n",
      "3849/3849 [==============================] - 44s 11ms/step - loss: 0.0975 - accuracy: 0.5623 - val_loss: 1.1632 - val_accuracy: 0.6092\n",
      "Epoch 7/100\n",
      "3849/3849 [==============================] - 44s 11ms/step - loss: 0.0932 - accuracy: 0.5803 - val_loss: 1.1273 - val_accuracy: 0.6245\n",
      "Epoch 8/100\n",
      "3849/3849 [==============================] - 45s 12ms/step - loss: 0.0891 - accuracy: 0.5950 - val_loss: 1.0600 - val_accuracy: 0.6465\n",
      "Epoch 9/100\n",
      "3849/3849 [==============================] - 44s 11ms/step - loss: 0.0862 - accuracy: 0.6096 - val_loss: 1.1158 - val_accuracy: 0.6343\n",
      "Epoch 10/100\n",
      "3849/3849 [==============================] - 44s 11ms/step - loss: 0.0831 - accuracy: 0.6227 - val_loss: 1.0424 - val_accuracy: 0.6534\n",
      "Epoch 11/100\n",
      "3849/3849 [==============================] - 44s 11ms/step - loss: 0.0806 - accuracy: 0.6326 - val_loss: 0.9950 - val_accuracy: 0.6656\n",
      "Epoch 12/100\n",
      "3849/3849 [==============================] - 43s 11ms/step - loss: 0.0785 - accuracy: 0.6421 - val_loss: 0.9917 - val_accuracy: 0.6677\n",
      "Epoch 13/100\n",
      "3849/3849 [==============================] - 44s 12ms/step - loss: 0.0765 - accuracy: 0.6513 - val_loss: 0.9749 - val_accuracy: 0.6740\n",
      "Epoch 14/100\n",
      "3849/3849 [==============================] - 43s 11ms/step - loss: 0.0747 - accuracy: 0.6585 - val_loss: 0.9658 - val_accuracy: 0.6771\n",
      "Epoch 15/100\n",
      "3849/3849 [==============================] - 45s 12ms/step - loss: 0.0732 - accuracy: 0.6650 - val_loss: 0.9621 - val_accuracy: 0.6797\n",
      "Epoch 16/100\n",
      "3849/3849 [==============================] - 43s 11ms/step - loss: 0.0717 - accuracy: 0.6720 - val_loss: 0.9165 - val_accuracy: 0.6905\n",
      "Epoch 17/100\n",
      "3849/3849 [==============================] - 44s 11ms/step - loss: 0.0701 - accuracy: 0.6780 - val_loss: 0.9128 - val_accuracy: 0.6936\n",
      "Epoch 18/100\n",
      "3849/3849 [==============================] - 44s 11ms/step - loss: 0.0690 - accuracy: 0.6838 - val_loss: 0.9221 - val_accuracy: 0.6932\n",
      "Epoch 19/100\n",
      "3849/3849 [==============================] - 44s 11ms/step - loss: 0.0682 - accuracy: 0.6889 - val_loss: 0.8792 - val_accuracy: 0.7026\n",
      "Epoch 20/100\n",
      "3849/3849 [==============================] - 41s 11ms/step - loss: 0.0670 - accuracy: 0.6941 - val_loss: 0.8342 - val_accuracy: 0.7182\n",
      "Epoch 21/100\n",
      "3849/3849 [==============================] - 42s 11ms/step - loss: 0.0656 - accuracy: 0.7003 - val_loss: 0.8955 - val_accuracy: 0.6997\n",
      "Epoch 22/100\n",
      "3849/3849 [==============================] - 42s 11ms/step - loss: 0.0650 - accuracy: 0.7021 - val_loss: 0.8856 - val_accuracy: 0.7056\n",
      "Epoch 23/100\n",
      "3849/3849 [==============================] - 42s 11ms/step - loss: 0.0637 - accuracy: 0.7074 - val_loss: 0.8921 - val_accuracy: 0.7056\n",
      "Epoch 24/100\n",
      "3849/3849 [==============================] - 46s 12ms/step - loss: 0.0627 - accuracy: 0.7136 - val_loss: 0.8090 - val_accuracy: 0.7248\n",
      "Epoch 25/100\n",
      "3849/3849 [==============================] - 41s 11ms/step - loss: 0.0620 - accuracy: 0.7163 - val_loss: 0.8890 - val_accuracy: 0.7047\n",
      "Epoch 26/100\n",
      "3849/3849 [==============================] - 48s 12ms/step - loss: 0.0615 - accuracy: 0.7187 - val_loss: 0.8304 - val_accuracy: 0.7252\n",
      "Epoch 27/100\n",
      "3849/3849 [==============================] - 42s 11ms/step - loss: 0.0607 - accuracy: 0.7222 - val_loss: 0.8213 - val_accuracy: 0.7213\n",
      "Epoch 28/100\n",
      "3849/3849 [==============================] - 42s 11ms/step - loss: 0.0599 - accuracy: 0.7257 - val_loss: 0.8182 - val_accuracy: 0.7239\n",
      "Epoch 29/100\n",
      "3849/3849 [==============================] - 47s 12ms/step - loss: 0.0590 - accuracy: 0.7300 - val_loss: 0.8440 - val_accuracy: 0.7162\n",
      "Epoch 30/100\n",
      "3849/3849 [==============================] - 42s 11ms/step - loss: 0.0587 - accuracy: 0.7319 - val_loss: 0.8401 - val_accuracy: 0.7202\n",
      "Epoch 31/100\n",
      "3849/3849 [==============================] - 43s 11ms/step - loss: 0.0581 - accuracy: 0.7351 - val_loss: 0.8260 - val_accuracy: 0.7253\n",
      "Epoch 32/100\n",
      "3849/3849 [==============================] - 47s 12ms/step - loss: 0.0572 - accuracy: 0.7374 - val_loss: 0.8074 - val_accuracy: 0.7313\n",
      "Epoch 33/100\n",
      "3849/3849 [==============================] - 43s 11ms/step - loss: 0.0564 - accuracy: 0.7418 - val_loss: 0.7924 - val_accuracy: 0.7351\n",
      "Epoch 34/100\n",
      "3849/3849 [==============================] - 46s 12ms/step - loss: 0.0563 - accuracy: 0.7437 - val_loss: 0.8102 - val_accuracy: 0.7281\n",
      "Epoch 35/100\n",
      "3849/3849 [==============================] - 44s 11ms/step - loss: 0.0556 - accuracy: 0.7468 - val_loss: 0.7940 - val_accuracy: 0.7318\n",
      "Epoch 36/100\n",
      "3849/3849 [==============================] - 43s 11ms/step - loss: 0.0552 - accuracy: 0.7492 - val_loss: 0.8224 - val_accuracy: 0.7239\n",
      "Epoch 37/100\n",
      "3849/3849 [==============================] - 42s 11ms/step - loss: 0.0550 - accuracy: 0.7493 - val_loss: 0.7816 - val_accuracy: 0.7412\n",
      "Epoch 38/100\n",
      "3849/3849 [==============================] - 42s 11ms/step - loss: 0.0543 - accuracy: 0.7522 - val_loss: 0.8158 - val_accuracy: 0.7268\n",
      "Epoch 39/100\n",
      "3849/3849 [==============================] - 44s 11ms/step - loss: 0.0538 - accuracy: 0.7551 - val_loss: 0.7826 - val_accuracy: 0.7326\n",
      "Epoch 40/100\n",
      "3849/3849 [==============================] - 48s 12ms/step - loss: 0.0534 - accuracy: 0.7560 - val_loss: 0.7883 - val_accuracy: 0.7360\n",
      "Epoch 41/100\n",
      "3849/3849 [==============================] - 42s 11ms/step - loss: 0.0532 - accuracy: 0.7568 - val_loss: 0.7853 - val_accuracy: 0.7368\n",
      "Epoch 42/100\n",
      "3849/3849 [==============================] - 42s 11ms/step - loss: 0.0527 - accuracy: 0.7591 - val_loss: 0.7909 - val_accuracy: 0.7351\n",
      "Epoch 43/100\n",
      "3849/3849 [==============================] - 42s 11ms/step - loss: 0.0525 - accuracy: 0.7602 - val_loss: 0.7923 - val_accuracy: 0.7410\n",
      "Epoch 44/100\n",
      "3849/3849 [==============================] - 49s 13ms/step - loss: 0.0516 - accuracy: 0.7641 - val_loss: 0.8102 - val_accuracy: 0.7308\n",
      "Epoch 45/100\n",
      "3849/3849 [==============================] - 43s 11ms/step - loss: 0.0512 - accuracy: 0.7672 - val_loss: 0.7745 - val_accuracy: 0.7406\n",
      "Epoch 46/100\n",
      "3849/3849 [==============================] - 42s 11ms/step - loss: 0.0509 - accuracy: 0.7671 - val_loss: 0.7899 - val_accuracy: 0.7371\n",
      "Epoch 47/100\n",
      "3849/3849 [==============================] - 42s 11ms/step - loss: 0.0510 - accuracy: 0.7670 - val_loss: 0.7613 - val_accuracy: 0.7424\n",
      "Epoch 48/100\n",
      "3849/3849 [==============================] - 50s 13ms/step - loss: 0.0505 - accuracy: 0.7698 - val_loss: 0.7918 - val_accuracy: 0.7333\n",
      "Epoch 49/100\n",
      "3849/3849 [==============================] - 42s 11ms/step - loss: 0.0500 - accuracy: 0.7721 - val_loss: 0.8202 - val_accuracy: 0.7277\n",
      "Epoch 50/100\n",
      "3849/3849 [==============================] - 42s 11ms/step - loss: 0.0498 - accuracy: 0.7742 - val_loss: 0.7797 - val_accuracy: 0.7402\n",
      "Epoch 51/100\n",
      "3849/3849 [==============================] - 42s 11ms/step - loss: 0.0496 - accuracy: 0.7733 - val_loss: 0.7718 - val_accuracy: 0.7438\n",
      "Epoch 52/100\n",
      "3849/3849 [==============================] - 46s 12ms/step - loss: 0.0490 - accuracy: 0.7774 - val_loss: 0.7742 - val_accuracy: 0.7439\n",
      "Epoch 53/100\n",
      "3849/3849 [==============================] - 42s 11ms/step - loss: 0.0490 - accuracy: 0.7767 - val_loss: 0.7347 - val_accuracy: 0.7557\n",
      "Epoch 54/100\n",
      "3849/3849 [==============================] - 42s 11ms/step - loss: 0.0489 - accuracy: 0.7783 - val_loss: 0.7835 - val_accuracy: 0.7397\n",
      "Epoch 55/100\n",
      "3849/3849 [==============================] - 42s 11ms/step - loss: 0.0483 - accuracy: 0.7803 - val_loss: 0.7791 - val_accuracy: 0.7386\n",
      "Epoch 56/100\n",
      "3849/3849 [==============================] - 51s 13ms/step - loss: 0.0482 - accuracy: 0.7818 - val_loss: 0.8055 - val_accuracy: 0.7282\n",
      "Epoch 57/100\n",
      "3849/3849 [==============================] - 42s 11ms/step - loss: 0.0480 - accuracy: 0.7820 - val_loss: 0.7624 - val_accuracy: 0.7432\n",
      "Epoch 58/100\n",
      "3849/3849 [==============================] - 42s 11ms/step - loss: 0.0479 - accuracy: 0.7812 - val_loss: 0.7860 - val_accuracy: 0.7371\n",
      "Epoch 59/100\n",
      "3849/3849 [==============================] - 42s 11ms/step - loss: 0.0475 - accuracy: 0.7842 - val_loss: 0.7749 - val_accuracy: 0.7388\n",
      "Epoch 60/100\n",
      "3849/3849 [==============================] - 51s 13ms/step - loss: 0.0472 - accuracy: 0.7848 - val_loss: 0.7556 - val_accuracy: 0.7460\n",
      "Epoch 61/100\n",
      "3849/3849 [==============================] - 42s 11ms/step - loss: 0.0471 - accuracy: 0.7858 - val_loss: 0.7544 - val_accuracy: 0.7497\n",
      "Epoch 62/100\n",
      "3849/3849 [==============================] - 42s 11ms/step - loss: 0.0467 - accuracy: 0.7874 - val_loss: 0.7737 - val_accuracy: 0.7409\n",
      "Epoch 63/100\n",
      "3849/3849 [==============================] - 42s 11ms/step - loss: 0.0468 - accuracy: 0.7877 - val_loss: 0.7622 - val_accuracy: 0.7440\n",
      "Epoch 64/100\n",
      "3849/3849 [==============================] - 51s 13ms/step - loss: 0.0460 - accuracy: 0.7905 - val_loss: 0.7877 - val_accuracy: 0.7355\n",
      "Epoch 65/100\n",
      "3849/3849 [==============================] - 45s 12ms/step - loss: 0.0459 - accuracy: 0.7916 - val_loss: 0.7681 - val_accuracy: 0.7403\n",
      "Epoch 66/100\n",
      "3849/3849 [==============================] - 42s 11ms/step - loss: 0.0458 - accuracy: 0.7922 - val_loss: 0.7853 - val_accuracy: 0.7368\n",
      "Epoch 67/100\n",
      "3849/3849 [==============================] - 42s 11ms/step - loss: 0.0458 - accuracy: 0.7914 - val_loss: 0.7480 - val_accuracy: 0.7445\n",
      "Epoch 68/100\n",
      "3849/3849 [==============================] - 42s 11ms/step - loss: 0.0452 - accuracy: 0.7942 - val_loss: 0.7564 - val_accuracy: 0.7516\n",
      "Epoch 69/100\n",
      "3849/3849 [==============================] - 43s 11ms/step - loss: 0.0453 - accuracy: 0.7948 - val_loss: 0.7665 - val_accuracy: 0.7474\n",
      "Epoch 70/100\n",
      "3849/3849 [==============================] - 52s 14ms/step - loss: 0.0450 - accuracy: 0.7952 - val_loss: 0.7669 - val_accuracy: 0.7421\n",
      "Epoch 71/100\n",
      "3849/3849 [==============================] - 44s 11ms/step - loss: 0.0453 - accuracy: 0.7971 - val_loss: 0.7756 - val_accuracy: 0.7411\n",
      "Epoch 72/100\n",
      "3849/3849 [==============================] - 42s 11ms/step - loss: 0.0449 - accuracy: 0.7967 - val_loss: 0.7513 - val_accuracy: 0.7487\n",
      "Epoch 73/100\n",
      "3849/3849 [==============================] - 42s 11ms/step - loss: 0.0446 - accuracy: 0.7987 - val_loss: 0.7406 - val_accuracy: 0.7522\n",
      "Epoch 74/100\n",
      "3849/3849 [==============================] - 42s 11ms/step - loss: 0.0445 - accuracy: 0.7979 - val_loss: 0.7653 - val_accuracy: 0.7455\n",
      "Epoch 75/100\n",
      "3849/3849 [==============================] - 42s 11ms/step - loss: 0.0438 - accuracy: 0.8018 - val_loss: 0.7822 - val_accuracy: 0.7416\n",
      "Epoch 76/100\n",
      "3849/3849 [==============================] - 41s 11ms/step - loss: 0.0436 - accuracy: 0.8025 - val_loss: 0.7728 - val_accuracy: 0.7419\n",
      "Epoch 77/100\n",
      "3849/3849 [==============================] - 43s 11ms/step - loss: 0.0442 - accuracy: 0.7993 - val_loss: 0.7648 - val_accuracy: 0.7453\n",
      "Epoch 78/100\n",
      "3849/3849 [==============================] - 51s 13ms/step - loss: 0.0441 - accuracy: 0.7998 - val_loss: 0.7494 - val_accuracy: 0.7538\n",
      "Epoch 79/100\n",
      "3849/3849 [==============================] - 42s 11ms/step - loss: 0.0437 - accuracy: 0.8026 - val_loss: 0.7345 - val_accuracy: 0.7519\n",
      "Epoch 80/100\n",
      "3849/3849 [==============================] - 42s 11ms/step - loss: 0.0436 - accuracy: 0.8028 - val_loss: 0.7434 - val_accuracy: 0.7527\n",
      "Epoch 81/100\n",
      "3849/3849 [==============================] - 42s 11ms/step - loss: 0.0431 - accuracy: 0.8040 - val_loss: 0.7672 - val_accuracy: 0.7421\n",
      "Epoch 82/100\n",
      "3849/3849 [==============================] - 42s 11ms/step - loss: 0.0433 - accuracy: 0.8032 - val_loss: 0.7539 - val_accuracy: 0.7465\n",
      "Epoch 83/100\n",
      "3849/3849 [==============================] - 42s 11ms/step - loss: 0.0433 - accuracy: 0.8043 - val_loss: 0.7707 - val_accuracy: 0.7428\n",
      "Epoch 84/100\n",
      "3849/3849 [==============================] - 42s 11ms/step - loss: 0.0434 - accuracy: 0.8055 - val_loss: 0.7468 - val_accuracy: 0.7480\n",
      "Epoch 85/100\n",
      "3849/3849 [==============================] - 42s 11ms/step - loss: 0.0429 - accuracy: 0.8055 - val_loss: 0.7714 - val_accuracy: 0.7443\n",
      "Epoch 86/100\n",
      "3849/3849 [==============================] - 42s 11ms/step - loss: 0.0425 - accuracy: 0.8071 - val_loss: 0.7482 - val_accuracy: 0.7520\n",
      "Epoch 87/100\n",
      "3849/3849 [==============================] - 44s 11ms/step - loss: 0.0426 - accuracy: 0.8073 - val_loss: 0.7686 - val_accuracy: 0.7465\n",
      "Epoch 88/100\n",
      "3849/3849 [==============================] - 42s 11ms/step - loss: 0.0427 - accuracy: 0.8068 - val_loss: 0.7799 - val_accuracy: 0.7431\n",
      "Epoch 89/100\n",
      "3849/3849 [==============================] - 43s 11ms/step - loss: 0.0422 - accuracy: 0.8099 - val_loss: 0.7398 - val_accuracy: 0.7548\n",
      "Epoch 90/100\n",
      "3849/3849 [==============================] - 42s 11ms/step - loss: 0.0425 - accuracy: 0.8076 - val_loss: 0.7611 - val_accuracy: 0.7502\n",
      "Epoch 91/100\n",
      "3849/3849 [==============================] - 42s 11ms/step - loss: 0.0422 - accuracy: 0.8090 - val_loss: 0.7671 - val_accuracy: 0.7473\n",
      "Epoch 92/100\n",
      "3849/3849 [==============================] - 42s 11ms/step - loss: 0.0419 - accuracy: 0.8100 - val_loss: 0.7385 - val_accuracy: 0.7565\n",
      "Epoch 93/100\n",
      "3849/3849 [==============================] - 42s 11ms/step - loss: 0.0421 - accuracy: 0.8101 - val_loss: 0.7572 - val_accuracy: 0.7486\n",
      "Epoch 94/100\n",
      "3849/3849 [==============================] - 42s 11ms/step - loss: 0.0416 - accuracy: 0.8105 - val_loss: 0.7394 - val_accuracy: 0.7515\n",
      "Epoch 95/100\n",
      "3849/3849 [==============================] - 51s 13ms/step - loss: 0.0416 - accuracy: 0.8119 - val_loss: 0.7622 - val_accuracy: 0.7418\n",
      "Epoch 96/100\n",
      "3849/3849 [==============================] - 50s 13ms/step - loss: 0.0416 - accuracy: 0.8117 - val_loss: 0.7421 - val_accuracy: 0.7528\n",
      "Epoch 97/100\n",
      "3849/3849 [==============================] - 42s 11ms/step - loss: 0.0418 - accuracy: 0.8112 - val_loss: 0.7575 - val_accuracy: 0.7476\n",
      "Epoch 98/100\n",
      "3849/3849 [==============================] - 43s 11ms/step - loss: 0.0413 - accuracy: 0.8136 - val_loss: 0.7368 - val_accuracy: 0.7588\n",
      "Epoch 99/100\n",
      "3849/3849 [==============================] - 42s 11ms/step - loss: 0.0413 - accuracy: 0.8131 - val_loss: 0.7345 - val_accuracy: 0.7532\n",
      "Epoch 100/100\n",
      "3849/3849 [==============================] - 42s 11ms/step - loss: 0.0414 - accuracy: 0.8127 - val_loss: 0.7644 - val_accuracy: 0.7457\n",
      "Nombre de couches :  27\n"
     ]
    }
   ],
   "source": [
    "# ------------- Modèle d'entrainement -------------\n",
    "opt = tf.keras.optimizers.Adam(learning_rate=0.0001)\n",
    "\n",
    "model = Sequential()\n",
    "model.add(Rescaling(1./255))\n",
    "\n",
    "model.add(Conv2D(32, (3, 3), activation='relu', padding='same'))\n",
    "model.add(BatchNormalization())\n",
    "\n",
    "model.add(Conv2D(32, (3, 3), activation='relu', padding='same'))\n",
    "model.add(BatchNormalization())\n",
    "model.add(MaxPooling2D(pool_size=(2, 2)))\n",
    "model.add(Dropout(0.15))\n",
    "\n",
    "\n",
    "model.add(Conv2D(64, (3, 3), activation='relu', padding='same'))\n",
    "model.add(BatchNormalization())\n",
    "\n",
    "model.add(Conv2D(64, (3, 3), activation='relu', padding='same'))\n",
    "model.add(BatchNormalization())\n",
    "model.add(MaxPooling2D(pool_size=(2, 2)))\n",
    "model.add(Dropout(0.15))\n",
    "\n",
    "model.add(Conv2D(128, (3, 3), activation='relu', padding='same'))\n",
    "model.add(BatchNormalization())\n",
    "\n",
    "\n",
    "model.add(Conv2D(128, (3, 3), activation='relu', padding='same'))\n",
    "model.add(BatchNormalization())\n",
    "model.add(MaxPooling2D(pool_size=(2, 2)))\n",
    "model.add(Dropout(0.15))\n",
    "\n",
    "\n",
    "model.add(Flatten())\n",
    "\n",
    "model.add(Dense(512, activation='relu'))\n",
    "model.add(BatchNormalization())\n",
    "model.add(Dropout(0.5))\n",
    "\n",
    "model.add(Dense(128, activation='relu'))\n",
    "model.add(BatchNormalization())\n",
    "model.add(Dropout(0.5))\n",
    "model.add(Dense(nb_classes, activation='softmax'))\n",
    "model.compile(loss='categorical_crossentropy', optimizer=opt, metrics=['accuracy'])\n",
    "#early_stopping = tf.keras.callbacks.EarlyStopping(monitor='val_loss', patience=2, verbose=2, mode='auto')\n",
    "fit = model.fit(augmented_train_ds, validation_data=data_test, epochs=100, class_weight = coeff)\n",
    "\n",
    "print(\"Nombre de couches : \", len(model.layers))"
   ]
  },
  {
   "cell_type": "code",
   "execution_count": 9,
   "id": "efe79e7c",
   "metadata": {
    "execution": {
     "iopub.execute_input": "2022-07-10T02:29:30.078297Z",
     "iopub.status.busy": "2022-07-10T02:29:30.077768Z",
     "iopub.status.idle": "2022-07-10T02:29:58.557847Z",
     "shell.execute_reply": "2022-07-10T02:29:58.557068Z"
    },
    "papermill": {
     "duration": 52.606146,
     "end_time": "2022-07-10T02:29:58.559761",
     "exception": false,
     "start_time": "2022-07-10T02:29:05.953615",
     "status": "completed"
    },
    "tags": []
   },
   "outputs": [
    {
     "data": {
      "image/png": "[encoded data removed]",
      "text/plain": [
       "<Figure size 432x288 with 1 Axes>"
      ]
     },
     "metadata": {
      "needs_background": "light"
     },
     "output_type": "display_data"
    },
    {
     "data": {
      "image/png": "[encoded data removed]",
      "text/plain": [
       "<Figure size 432x288 with 1 Axes>"
      ]
     },
     "metadata": {
      "needs_background": "light"
     },
     "output_type": "display_data"
    },
    {
     "name": "stdout",
     "output_type": "stream",
     "text": [
      "3849/3849 [==============================] - 28s 7ms/step - loss: 0.5465 - accuracy: 0.8319\n",
      "Précision du modèle de test :  83.19 %\n"
     ]
    }
   ],
   "source": [
    "# ------------- Plot des accuracy de training et de validation sur 100 epoch -------------\n",
    "def training_plot(history):\n",
    "    acc = history.history['accuracy']\n",
    "    val_acc = history.history['val_accuracy']\n",
    "    loss = history.history['loss']\n",
    "    val_loss = history.history['val_loss']\n",
    "    epochs = range(1, len(acc) + 1)\n",
    "    plt.plot(epochs, val_acc, 'g', label=\"Précision de validation\")\n",
    "    plt.plot(epochs, acc, 'b', label=\"Précision d'entrainement\")\n",
    "    plt.title(\"Précision d'entrainement et de validation\")\n",
    "    plt.legend()\n",
    "    plt.figure()\n",
    "    plt.plot(epochs, val_loss, 'g', label=\"Perte durant la validation\")\n",
    "    plt.plot(epochs, loss, 'b', label=\"Perte durant l'entrainement\")\n",
    "    plt.title(\"Perte durant l'entrainement et la validation\")\n",
    "    plt.legend()\n",
    "    plt.show()\n",
    "\n",
    "training_plot(fit)\n",
    "score_test = model.evaluate(augmented_train_ds)\n",
    "nombre = score_test[1]*100\n",
    "print('Précision du modèle de test : {0:6.2f} %'.format(nombre))"
   ]
  },
  {
   "cell_type": "markdown",
   "id": "2fab976a",
   "metadata": {
    "papermill": {
     "duration": 23.831601,
     "end_time": "2022-07-10T02:30:47.206358",
     "exception": false,
     "start_time": "2022-07-10T02:30:23.374757",
     "status": "completed"
    },
    "tags": []
   },
   "source": [
    "## **Interprétations :**\n",
    "* **Courbe de précision :** La précision du modèle est assez satisfaisante dans l'ensemble. La courbe ne fait que croître, témoignant d'un overfitting absent ou très léger (sinon, la courbe retomberait sur la fin de l'entrainement). La précision de validation et d'entrainement converge brutalement à certains moments. Néanmoins, le modèle parait relativement efficace.\n",
    "\n",
    "* **Courbe de perte :** Les pertes générées durant l'entrainement du réseau de neurones et durant sa validation tend vers 0 au fur et à mesure des epoch. La courbe d'entrainement est relativement stable, bien que sa variation soit très faible. Cela témoigne d'un learning rate assez faible. On peut également interpréter ça comme le résultat d'un modèle qui underfit. Pour régler ce souci, deux solutions sont possibles :\n",
    "    1. Ajouter plus de modifications sur les données d'entrainement pour rendre les données plus difficiles à interpréter\n",
    "    2. Réguler le modèle en l'obligeant à se concentrer sur les motifs répétitifs qu'il rencontre pour mieux généraliser, ou au contraire le réduire la régularisation du modèle\n",
    "    3. Augmenter la compléxité du modèle"
   ]
  },
  {
   "cell_type": "code",
   "execution_count": 10,
   "id": "23b5e818",
   "metadata": {
    "execution": {
     "iopub.execute_input": "2022-07-10T02:31:36.258069Z",
     "iopub.status.busy": "2022-07-10T02:31:36.257686Z",
     "iopub.status.idle": "2022-07-10T02:31:47.822156Z",
     "shell.execute_reply": "2022-07-10T02:31:47.821476Z"
    },
    "papermill": {
     "duration": 36.221916,
     "end_time": "2022-07-10T02:31:47.824017",
     "exception": false,
     "start_time": "2022-07-10T02:31:11.602101",
     "status": "completed"
    },
    "tags": []
   },
   "outputs": [
    {
     "name": "stdout",
     "output_type": "stream",
     "text": [
      "Matrice de confusion brute :\n",
      "[[ 407    4   12   16    3   68   29    1    3   69    3   29   71]\n",
      " [   2 1234    2   19    2   11   18   21    1   14    5    9   29]\n",
      " [  49    1  220    9    9  263   20    0    1   26    6    7   17]\n",
      " [   3    3    0 1345    2    9   25    0    3    6    2    2    8]\n",
      " [  10    4    8   19  206  120   11    2    3   11   11    3   14]\n",
      " [  16    5   31   12    9 1186   11    1    5   20   15    8   19]\n",
      " [  26    7    0   64    1   18  521    5    0   27    1    9   31]\n",
      " [   5   42    0    7    0    5   43  521    0   15    1   16   32]\n",
      " [   6    3    0   22    0   17    8    2  252   23    8    5   28]\n",
      " [  16    1    0    4    0    9    7    0    0  465    2   17  166]\n",
      " [  12    8    9   14    3   58    6    0    3   12  406    8   32]\n",
      " [  18    3    1    3    1   12   10    2    1   48    1  542   53]\n",
      " [  20    5    3   14    0   14   12    0    0  227    7    9  343]]\n",
      "\n",
      "\n"
     ]
    },
    {
     "name": "stderr",
     "output_type": "stream",
     "text": [
      "/opt/conda/lib/python3.7/site-packages/ipykernel_launcher.py:29: UserWarning: FixedFormatter should only be used together with FixedLocator\n",
      "/opt/conda/lib/python3.7/site-packages/ipykernel_launcher.py:30: UserWarning: FixedFormatter should only be used together with FixedLocator\n"
     ]
    },
    {
     "data": {
      "image/png": "[encoded data removed]",
      "text/plain": [
       "<Figure size 2160x2160 with 2 Axes>"
      ]
     },
     "metadata": {
      "needs_background": "light"
     },
     "output_type": "display_data"
    }
   ],
   "source": [
    "from sklearn.metrics import confusion_matrix\n",
    "from numpy import argmax\n",
    "\n",
    "\n",
    "# ------------- Calculs préliminaires -------------\n",
    "y_true = []\n",
    "y_pred = []\n",
    "for x, y in data_test:\n",
    "    y = tf.argmax(y, axis = 1)\n",
    "    y_true.append(y)\n",
    "    y_pred.append(tf.argmax(model.predict(x), axis = 1))\n",
    "\n",
    "y_pred = tf.concat(y_pred, axis=0)\n",
    "y_true = tf.concat(y_true, axis=0)\n",
    "\n",
    "\n",
    "# ------------- Matrice de confusion -------------\n",
    "cm = confusion_matrix(y_true, y_pred)\n",
    "\n",
    "print(\"Matrice de confusion brute :\")\n",
    "print(cm)\n",
    "print(\"\\n\")\n",
    "\n",
    "fig = plt.figure(figsize=(30,30))\n",
    "ax = fig.add_subplot(211)\n",
    "cax = ax.matshow(cm)\n",
    "plt.title('Matrice de confusion')\n",
    "fig.colorbar(cax)\n",
    "ax.set_xticklabels([''] + labels)\n",
    "ax.set_yticklabels([''] + labels)\n",
    "plt.xlabel('\\n Prédiction')\n",
    "plt.ylabel('Réalité')\n",
    "plt.title(\"Matrice de confusion résultant du modèle\\n\")\n",
    "plt.show()"
   ]
  },
  {
   "cell_type": "code",
   "execution_count": 11,
   "id": "2ba9c41e",
   "metadata": {
    "execution": {
     "iopub.execute_input": "2022-07-10T02:32:37.222886Z",
     "iopub.status.busy": "2022-07-10T02:32:37.222482Z",
     "iopub.status.idle": "2022-07-10T02:32:37.254646Z",
     "shell.execute_reply": "2022-07-10T02:32:37.253932Z"
    },
    "papermill": {
     "duration": 24.680464,
     "end_time": "2022-07-10T02:32:37.257074",
     "exception": false,
     "start_time": "2022-07-10T02:32:12.576610",
     "status": "completed"
    },
    "tags": []
   },
   "outputs": [
    {
     "name": "stdout",
     "output_type": "stream",
     "text": [
      "Rapport de classification :\n",
      "\n",
      "               precision    recall  f1-score   support\n",
      "\n",
      "     corvette       0.69      0.57      0.62       715\n",
      "        ferry       0.93      0.90      0.92      1367\n",
      "           cv       0.77      0.35      0.48       628\n",
      "    submarine       0.87      0.96      0.91      1408\n",
      "    destroyer       0.87      0.49      0.63       422\n",
      "    methanier       0.66      0.89      0.76      1338\n",
      "   vsmallfish       0.72      0.73      0.73       710\n",
      "containership       0.94      0.76      0.84       687\n",
      "      cruiser       0.93      0.67      0.78       374\n",
      "    smallfish       0.48      0.68      0.56       687\n",
      "      sailing       0.87      0.71      0.78       571\n",
      "   coastguard       0.82      0.78      0.80       695\n",
      "          tug       0.41      0.52      0.46       654\n",
      "\n",
      "     accuracy                           0.75     10256\n",
      "    macro avg       0.77      0.69      0.71     10256\n",
      " weighted avg       0.77      0.75      0.74     10256\n",
      "\n"
     ]
    }
   ],
   "source": [
    "#  ------------- Rapport de classification -------------\n",
    "from sklearn.metrics import classification_report\n",
    "\n",
    "print(\"Rapport de classification :\\n\")\n",
    "print(classification_report(y_true, y_pred, target_names=classes, digits=2))"
   ]
  },
  {
   "cell_type": "markdown",
   "id": "7c8dd8e4",
   "metadata": {
    "papermill": {
     "duration": 24.376125,
     "end_time": "2022-07-10T02:33:25.474557",
     "exception": false,
     "start_time": "2022-07-10T02:33:01.098432",
     "status": "completed"
    },
    "tags": []
   },
   "source": [
    "## **Interprétations de la matrice de confusion et du rapport de classification :**\n",
    "\n",
    "Visuellement parlant, la matrice de confusion montre que le modèle reconnait relativement bien les différents types de bateaux. On retrouve une coloration plus prononcée sur sa diagonale, c'est à dire qu'entre la prédiction et la réalité, le modèle arrive la majorité du temps à classifier les images correctement. Cependant, la coloration jaune / vert, qui indique les plus gros taux de reconnaissance, sont localisés pour seulement 3 des 13 types de bateaux. \n",
    "\n",
    "En comparant la pool d'images pour chaque type de bateaux, on pourrait s'attendre à ce que le modèle reconnaisse plus facilement les 3 types les plus représentés, à savoir les *destroyers*, les *cruisers* et les *containerships*. Cependant, en analysant le rapport de classification, on s'aperçoit que non.\n",
    "    On remarque aussi, via la matrice de confusion, que le modèle a tendance à attribuer l'étiquette *containership* ou *ferry* à d'autres types de bateau.\n",
    "\n",
    "Il pourrait être plus simple pour le modèle de mieux reconnaître le type de certains bateaux avec des images d'entrainement et de test plus grandes, donc plus nettes. Des images 32x32 donnent parfois l'impression de perdre de l'information précise et importante pour une meilleure détection des bateaux."
   ]
  },
  {
   "cell_type": "markdown",
   "id": "a608f63c",
   "metadata": {
    "papermill": {
     "duration": 24.518976,
     "end_time": "2022-07-10T02:34:14.991755",
     "exception": false,
     "start_time": "2022-07-10T02:33:50.472779",
     "status": "completed"
    },
    "tags": []
   },
   "source": [
    "# **Résultats à soumettre**"
   ]
  },
  {
   "cell_type": "code",
   "execution_count": 12,
   "id": "ce601d59",
   "metadata": {
    "execution": {
     "iopub.execute_input": "2022-07-10T02:35:03.591091Z",
     "iopub.status.busy": "2022-07-10T02:35:03.590683Z",
     "iopub.status.idle": "2022-07-10T02:35:03.825403Z",
     "shell.execute_reply": "2022-07-10T02:35:03.824686Z"
    },
    "papermill": {
     "duration": 25.057003,
     "end_time": "2022-07-10T02:35:03.828056",
     "exception": false,
     "start_time": "2022-07-10T02:34:38.771053",
     "status": "completed"
    },
    "tags": []
   },
   "outputs": [],
   "source": [
    "X_test = np.load('/kaggle/working/ships_competition.npz', allow_pickle=True)['X']\n",
    "X_test = X_test.astype('float32') #/ 255\n",
    "\n",
    "\n",
    "res = model.predict(X_test).argmax(axis=1)\n",
    "df = pd.DataFrame({\"Category\":res})\n",
    "df.to_csv(\"reco_nav.csv\", index_label=\"Id\")"
   ]
  },
  {
   "cell_type": "code",
   "execution_count": 13,
   "id": "2a7b7d35",
   "metadata": {
    "execution": {
     "iopub.execute_input": "2022-07-10T02:35:52.714160Z",
     "iopub.status.busy": "2022-07-10T02:35:52.713751Z",
     "iopub.status.idle": "2022-07-10T02:35:53.415073Z",
     "shell.execute_reply": "2022-07-10T02:35:53.414264Z"
    },
    "papermill": {
     "duration": 25.133408,
     "end_time": "2022-07-10T02:35:53.416873",
     "exception": false,
     "start_time": "2022-07-10T02:35:28.283465",
     "status": "completed"
    },
    "tags": []
   },
   "outputs": [
    {
     "name": "stdout",
     "output_type": "stream",
     "text": [
      "Id,Category\r\n",
      "0,5\r\n",
      "1,5\r\n",
      "2,1\r\n",
      "3,11\r\n",
      "4,9\r\n",
      "5,5\r\n",
      "6,5\r\n",
      "7,5\r\n",
      "8,7\r\n"
     ]
    }
   ],
   "source": [
    "!head reco_nav.csv"
   ]
  },
  {
   "cell_type": "code",
   "execution_count": 14,
   "id": "4eb8d220",
   "metadata": {
    "execution": {
     "iopub.execute_input": "2022-07-10T02:36:41.720168Z",
     "iopub.status.busy": "2022-07-10T02:36:41.719741Z",
     "iopub.status.idle": "2022-07-10T02:36:41.729540Z",
     "shell.execute_reply": "2022-07-10T02:36:41.728871Z"
    },
    "papermill": {
     "duration": 24.501519,
     "end_time": "2022-07-10T02:36:41.731237",
     "exception": false,
     "start_time": "2022-07-10T02:36:17.229718",
     "status": "completed"
    },
    "tags": []
   },
   "outputs": [
    {
     "data": {
      "text/html": [
       "<a href='reco_nav.csv' target='_blank'>reco_nav.csv</a><br>"
      ],
      "text/plain": [
       "/kaggle/working/reco_nav.csv"
      ]
     },
     "execution_count": 14,
     "metadata": {},
     "output_type": "execute_result"
    }
   ],
   "source": [
    "import os\n",
    "\n",
    "# ------------- Génération du fichier de rendu Leaderboard -------------\n",
    "os.chdir(r'/kaggle/working')\n",
    "from IPython.display import FileLink\n",
    "FileLink(r'reco_nav.csv')"
   ]
  },
  {
   "cell_type": "code",
   "execution_count": 15,
   "id": "4bb8e10b",
   "metadata": {
    "execution": {
     "iopub.execute_input": "2022-07-10T02:37:30.724789Z",
     "iopub.status.busy": "2022-07-10T02:37:30.724346Z",
     "iopub.status.idle": "2022-07-10T02:37:32.643847Z",
     "shell.execute_reply": "2022-07-10T02:37:32.642853Z"
    },
    "papermill": {
     "duration": 26.639068,
     "end_time": "2022-07-10T02:37:32.645991",
     "exception": false,
     "start_time": "2022-07-10T02:37:06.006923",
     "status": "completed"
    },
    "tags": []
   },
   "outputs": [],
   "source": [
    "!rm -rf ships32/"
   ]
  },
  {
   "cell_type": "markdown",
   "id": "f171306c",
   "metadata": {
    "papermill": {
     "duration": 24.242516,
     "end_time": "2022-07-10T02:38:21.092965",
     "exception": false,
     "start_time": "2022-07-10T02:37:56.850449",
     "status": "completed"
    },
    "tags": []
   },
   "source": [
    "### **AUTHORS**\n",
    "* Sébastien Barbier\n",
    "* Laure Marcheron\n",
    "\n",
    "Projet IREN - Promotion 2023"
   ]
  }
 ],
 "metadata": {
  "kernelspec": {
   "display_name": "Python 3",
   "language": "python",
   "name": "python3"
  },
  "language_info": {
   "codemirror_mode": {
    "name": "ipython",
    "version": 3
   },
   "file_extension": ".py",
   "mimetype": "text/x-python",
   "name": "python",
   "nbconvert_exporter": "python",
   "pygments_lexer": "ipython3",
   "version": "3.7.12"
  },
  "papermill": {
   "default_parameters": {},
   "duration": 6855.42613,
   "end_time": "2022-07-10T02:38:48.820475",
   "environment_variables": {},
   "exception": null,
   "input_path": "__notebook__.ipynb",
   "output_path": "__notebook__.ipynb",
   "parameters": {},
   "start_time": "2022-07-10T00:44:33.394345",
   "version": "2.3.4"
  }
 },
 "nbformat": 4,
 "nbformat_minor": 5
}
